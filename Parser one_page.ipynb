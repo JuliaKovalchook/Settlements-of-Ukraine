{
 "cells": [
  {
   "cell_type": "code",
   "execution_count": 1,
   "id": "cf4c60c4",
   "metadata": {},
   "outputs": [],
   "source": [
    "from urllib.request import urlopen\n",
    "from bs4 import BeautifulSoup\n",
    "import re\n",
    "\n"
   ]
  },
  {
   "cell_type": "code",
   "execution_count": 2,
   "id": "673f8fad",
   "metadata": {},
   "outputs": [],
   "source": [
    "html = urlopen('https://uk.wikipedia.org/wiki/%D0%A2%D0%B5%D0%BF%D0%BB%D0%BE%D0%B4%D0%B0%D1%80')\n",
    "bs = BeautifulSoup(html, 'html.parser')\n",
    "# year=bs.find('table', {'class':'infobox'}).find('a', text = re.compile('Населення')).parent.parent.find_all('td')[1].find(text=True, recursive=False).strip()\n"
   ]
  },
  {
   "cell_type": "code",
   "execution_count": 9,
   "id": "6a1731ee",
   "metadata": {},
   "outputs": [
    {
     "name": "stdout",
     "output_type": "stream",
     "text": [
      "city: Теплодар\n",
      "year: 1983\n",
      "latitude: 46°30′13″ пн. ш. \n",
      "longitude: 30°19′28″ сх. д.\n"
     ]
    }
   ],
   "source": [
    "\n",
    "try:\n",
    "    print('city: ' + bs.h1.text)\n",
    "except AttributeError:\n",
    "    print('Error city')\n",
    "\n",
    "# year\n",
    "try:\n",
    "    year = bs.find('table', {'class': 'infobox'}).find(text=re.compile('Заснован(е|о)')).find_parent('tr').find_all('td')[1].text.strip()\n",
    "    if  not year or year=='' or year=='невідомо' or year=='не відомо' or year=='—':\n",
    "        try:\n",
    "            year = bs.find('table', {'class': 'infobox'}).find(text=re.compile('Перша згадка')).find_parent('tr').find_all('td')[1].text.strip()\n",
    "            print('year: '+ year)\n",
    "        except AttributeError:\n",
    "            try:\n",
    "                year = bs.find('table', {'class': 'infobox'}).find(text=re.compile('Перша згадка')).find_parent('tr').find_all('td')[0].text.strip()\n",
    "                print('year: '+  year)\n",
    "            except AttributeError:\n",
    "                year = None  \n",
    "        except IndexError:\n",
    "            try:\n",
    "                year = bs.find('table', {'class': 'infobox'}).find(text=re.compile('Перша згадка')).find_parent('tr').find_all('td')[0].text.strip()\n",
    "                print('year: '+ year)\n",
    "            except AttributeError:\n",
    "                year = None        \n",
    "    else:   \n",
    "        year\n",
    "        print('year: '+ year)\n",
    "\n",
    "\n",
    "except IndexError:\n",
    "    try: \n",
    "        if not year or year=='' or year=='невідомо'  or year=='не відомо' or year=='—':\n",
    "            year = bs.find('table', {'class': 'infobox'}).find(text=re.compile('Заснован(е|о)')).find_parent('tr').find_all('td')[0].text.strip()\n",
    "            print('year: '+  year)\n",
    "    except AttributeError:\n",
    "        year = None\n",
    "    except IndexError:\n",
    "        if not year :\n",
    "            year = bs.find('table', {'class': 'infobox'}).find(text=re.compile('Перша згадка')).find_parent('tr').find_all('td')[0].text.strip()\n",
    "            print('year: '+  year)\n",
    "except AttributeError:\n",
    "    try:\n",
    "        year = bs.find('table', {'class': 'infobox'}).find(text=re.compile('Перша згадка')).find_parent('tr').find_all('td')[1].text.strip()\n",
    "        print('year: '+ year)\n",
    "\n",
    "    except AttributeError:\n",
    "        year = None        \n",
    "\n",
    "# latitude\n",
    "try:\n",
    "    latitude = bs.find('span', {'class': 'latitude'}).text\n",
    "    print('latitude  ' + latitude)\n",
    "except AttributeError:\n",
    "    try: \n",
    "        latitude = bs.find('a', {'class': 'mw-kartographer-maplink'}).text\n",
    "        #print('latitude: '+ latitude)\n",
    "        if latitude.find('″') == -1:\n",
    "            latitude=latitude[:13]\n",
    "            print('latitude: '+ latitude)\n",
    "        else: \n",
    "            latitude=latitude[:17]\n",
    "            print('latitude: '+ latitude)\n",
    "    except AttributeError:\n",
    "        latitude = None\n",
    "\n",
    "\n",
    "# longitude\n",
    "try:\n",
    "    longitude = bs.find('span', {'class': 'longitude'}).text\n",
    "    print('longitude: ' + longitude)\n",
    "except AttributeError:\n",
    "    try:\n",
    "        longitude = bs.find('a', {'class': 'mw-kartographer-maplink'}).text\n",
    "        if longitude.find('″') == -1:\n",
    "            longitude=longitude[13:]\n",
    "            print('longitude: ' + longitude)\n",
    "        else: \n",
    "            longitude=longitude[17:]\n",
    "            print('longitude: ' + longitude)\n",
    "    except AttributeError:\n",
    "        longitude = None\n"
   ]
  },
  {
   "cell_type": "code",
   "execution_count": 10,
   "id": "29cdb65e",
   "metadata": {},
   "outputs": [
    {
     "name": "stdout",
     "output_type": "stream",
     "text": [
      "46.50361111111111\n",
      "30.324444444444445\n"
     ]
    }
   ],
   "source": [
    "from dms2dec.dms_convert import dms2dec\n",
    "\n",
    "print(dms2dec(latitude))\n",
    "print(dms2dec(longitude))"
   ]
  },
  {
   "cell_type": "code",
   "execution_count": null,
   "id": "1e57d15a",
   "metadata": {},
   "outputs": [],
   "source": []
  },
  {
   "cell_type": "code",
   "execution_count": null,
   "id": "8c45dc76",
   "metadata": {},
   "outputs": [],
   "source": []
  },
  {
   "cell_type": "code",
   "execution_count": null,
   "id": "0620863e",
   "metadata": {},
   "outputs": [],
   "source": []
  }
 ],
 "metadata": {
  "kernelspec": {
   "display_name": "Python 3",
   "language": "python",
   "name": "python3"
  },
  "language_info": {
   "codemirror_mode": {
    "name": "ipython",
    "version": 3
   },
   "file_extension": ".py",
   "mimetype": "text/x-python",
   "name": "python",
   "nbconvert_exporter": "python",
   "pygments_lexer": "ipython3",
   "version": "3.8.8"
  }
 },
 "nbformat": 4,
 "nbformat_minor": 5
}
