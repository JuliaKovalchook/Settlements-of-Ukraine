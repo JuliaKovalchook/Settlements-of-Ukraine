{
 "cells": [
  {
   "cell_type": "code",
   "execution_count": 1,
   "id": "979b9783",
   "metadata": {},
   "outputs": [],
   "source": [
    "from dms2dec.dms_convert import dms2dec"
   ]
  },
  {
   "cell_type": "code",
   "execution_count": 2,
   "id": "d4079cd4",
   "metadata": {},
   "outputs": [
    {
     "data": {
      "text/plain": [
       "36.74658055555555"
      ]
     },
     "execution_count": 2,
     "metadata": {},
     "output_type": "execute_result"
    }
   ],
   "source": []
  },
  {
   "cell_type": "code",
   "execution_count": 3,
   "id": "0e197f55",
   "metadata": {},
   "outputs": [
    {
     "data": {
      "text/plain": [
       "\"\\nПівнічна точка — село Грем'яч Новгород-Сіверського району Чернігівської області (52°20′04″ пн. ш. 33°17′19″ сх. д.) (урочище Петрівське).\\nПівденна точка — мис Сарич в Севастополі (44°23′11″ пн. ш. 33°46′38″ сх. д.).\\nЗахідна точка — село Соломоново Ужгородського району Закарпатської області (48°25′50″ пн. ш. 22°09′50″ сх. д.) (стариця Мертва Тиса).\\nСхідна точка — село Рання Зоря Міловського району Луганської області (49°15′33″ пн. ш. 40°11′53″ сх. д.).\\n\""
      ]
     },
     "execution_count": 3,
     "metadata": {},
     "output_type": "execute_result"
    }
   ],
   "source": [
    "'''\n",
    "Північна точка — село Грем'яч Новгород-Сіверського району Чернігівської області (52°20′04″ пн. ш. 33°17′19″ сх. д.) (урочище Петрівське).\n",
    "Південна точка — мис Сарич в Севастополі (44°23′11″ пн. ш. 33°46′38″ сх. д.).\n",
    "Західна точка — село Соломоново Ужгородського району Закарпатської області (48°25′50″ пн. ш. 22°09′50″ сх. д.) (стариця Мертва Тиса).\n",
    "Східна точка — село Рання Зоря Міловського району Луганської області (49°15′33″ пн. ш. 40°11′53″ сх. д.).\n",
    "'''"
   ]
  },
  {
   "cell_type": "code",
   "execution_count": 18,
   "id": "c5333f22",
   "metadata": {},
   "outputs": [
    {
     "name": "stdout",
     "output_type": "stream",
     "text": [
      "Північна точка\n",
      "52.33444444444444\n",
      "\n",
      "Південна точка\n",
      "44.38638888888889\n",
      "\n",
      "Західна точка\n",
      "22.163888888888888\n",
      "\n",
      "Східна точка\n",
      "40.198055555555555\n"
     ]
    }
   ],
   "source": [
    "print('Північна точка') \n",
    "print(dms2dec('''52°20′04″ пн. ш.'''))\n",
    "#print(dms2dec('''33°17′19″ сх. д.''')) \n",
    "print('') \n",
    "print('Південна точка') \n",
    "print(dms2dec('''44°23′11″ пн. ш. '''))\n",
    "#print(dms2dec('''33°46′38″ сх. д.''')) \n",
    "print('') \n",
    "print('Західна точка') \n",
    "#print(dms2dec('''48°25′50″ пн. ш.'''))\n",
    "print(dms2dec('''22°09′50″ сх. д.''')) \n",
    "print('') \n",
    "print('Східна точка') \n",
    "#print(dms2dec('''49°15′33″ пн. ш. '''))\n",
    "print(dms2dec('''40°11′53″ сх. д.''')) "
   ]
  },
  {
   "cell_type": "code",
   "execution_count": 1,
   "id": "5cd92b04",
   "metadata": {},
   "outputs": [],
   "source": [
    "xaxis=dict(range=[22.00, 40.2]),\n",
    "yaxis=dict(range=[44.4, 52.4])\n"
   ]
  },
  {
   "cell_type": "code",
   "execution_count": 2,
   "id": "9f8c37ba",
   "metadata": {},
   "outputs": [
    {
     "name": "stdout",
     "output_type": "stream",
     "text": [
      "7.948055555555555\n",
      "18.034166666666668\n"
     ]
    }
   ],
   "source": [
    "print(52.33444444444444-44.38638888888889)\n",
    "print(40.198055555555555-22.163888888888888)"
   ]
  },
  {
   "cell_type": "code",
   "execution_count": null,
   "id": "427163fd",
   "metadata": {},
   "outputs": [],
   "source": [
    "18"
   ]
  }
 ],
 "metadata": {
  "kernelspec": {
   "display_name": "Python 3",
   "language": "python",
   "name": "python3"
  },
  "language_info": {
   "codemirror_mode": {
    "name": "ipython",
    "version": 3
   },
   "file_extension": ".py",
   "mimetype": "text/x-python",
   "name": "python",
   "nbconvert_exporter": "python",
   "pygments_lexer": "ipython3",
   "version": "3.8.8"
  }
 },
 "nbformat": 4,
 "nbformat_minor": 5
}
